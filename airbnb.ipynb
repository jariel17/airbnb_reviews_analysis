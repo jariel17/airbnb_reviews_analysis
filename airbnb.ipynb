{
 "cells": [
  {
   "cell_type": "markdown",
   "id": "db03c268",
   "metadata": {},
   "source": [
    "## Análisis de Opiniones y Características de Listados de Airbnb en Ciudad México"
   ]
  },
  {
   "cell_type": "code",
   "execution_count": 43,
   "id": "2caa031b",
   "metadata": {},
   "outputs": [
    {
     "name": "stderr",
     "output_type": "stream",
     "text": [
      "[nltk_data] Downloading package stopwords to /home/tux/nltk_data...\n",
      "[nltk_data]   Package stopwords is already up-to-date!\n",
      "[nltk_data] Downloading package wordnet to /home/tux/nltk_data...\n",
      "[nltk_data]   Package wordnet is already up-to-date!\n",
      "[nltk_data] Downloading package omw-1.4 to /home/tux/nltk_data...\n",
      "[nltk_data]   Package omw-1.4 is already up-to-date!\n",
      "[nltk_data] Downloading package punkt to /home/tux/nltk_data...\n",
      "[nltk_data]   Package punkt is already up-to-date!\n"
     ]
    }
   ],
   "source": [
    "import numpy as np\n",
    "import pandas as pd\n",
    "from sklearn.feature_extraction.text import TfidfVectorizer \n",
    "from sklearn.feature_extraction.text import CountVectorizer\n",
    "from sklearn.model_selection import GridSearchCV\n",
    "from sklearn.naive_bayes import MultinomialNB\n",
    "from sklearn.linear_model import LogisticRegression\n",
    "from sklearn.model_selection import train_test_split\n",
    "from sklearn.metrics import classification_report, accuracy_score \n",
    "from sklearn.metrics import confusion_matrix, ConfusionMatrixDisplay\n",
    "import seaborn as sns\n",
    "import matplotlib.pyplot as plt\n",
    "from sklearn.pipeline import Pipeline\n",
    "import nltk\n",
    "import joblib\n",
    "import importlib\n",
    "from nltk.corpus import stopwords\n",
    "from nltk.tokenize import word_tokenize\n",
    "import textfunctions\n",
    "from wordcloud import WordCloud"
   ]
  },
  {
   "cell_type": "markdown",
   "id": "6263f662",
   "metadata": {},
   "source": [
    "### 1. Carga de los datos y exploración inicial\n",
    "- Cargamos los datos de Airbnb y realizamos una exploración inicial para entender la estructura y el contenido de los datos.\n",
    "- Exploramos la columna objetivo: `review_scores_rating`.\n",
    "- Eliminamos los items sin puntuación.\n",
    "- Realizamos el etiquetado binario.\n",
    "- Visualizamos la distribución de la nueva columna `target`."
   ]
  },
  {
   "cell_type": "code",
   "execution_count": 36,
   "id": "3a0ae619",
   "metadata": {},
   "outputs": [],
   "source": [
    "df_listings = pd.read_csv('data/listings.csv')\n",
    "df_reviews = pd.read_csv('data/reviews.csv')"
   ]
  },
  {
   "cell_type": "markdown",
   "id": "2d0072d8",
   "metadata": {},
   "source": [
    "- Revisamos la cantida de datos que tenemos en ambos dataframes.\n",
    "- Verificamos que en los reviews no hayan ids que no se encuentren en listings."
   ]
  },
  {
   "cell_type": "code",
   "execution_count": 37,
   "id": "362a8039",
   "metadata": {},
   "outputs": [
    {
     "name": "stdout",
     "output_type": "stream",
     "text": [
      "Tamaño de df_listings: (26067, 79)\n",
      "Tamaño de df_reviews: (1315986, 6)\n"
     ]
    }
   ],
   "source": [
    "print(\"Tamaño de df_listings:\", df_listings.shape)\n",
    "print(\"Tamaño de df_reviews:\", df_reviews.shape)"
   ]
  },
  {
   "cell_type": "code",
   "execution_count": 38,
   "id": "03a459c2",
   "metadata": {},
   "outputs": [],
   "source": [
    "missing_ids = set(df_reviews['listing_id']) - set(df_listings['id'])"
   ]
  },
  {
   "cell_type": "code",
   "execution_count": null,
   "id": "5e757f02",
   "metadata": {},
   "outputs": [
    {
     "name": "stdout",
     "output_type": "stream",
     "text": [
      "Total de Propiedades: 26067\n",
      "Total de Reseñas: 1315986\n",
      "Total de propiedades únicas reseñadas: 22806\n",
      "Avg Reseñas/Propiedades: 57.7\n"
     ]
    }
   ],
   "source": [
    "\n",
    "print(f\"Total de propiedades: {df_listings['id'].nunique()}\")\n",
    "print(f\"Total de reseñas: {len(df_reviews)}\")\n",
    "print(f\"Total de propiedades únicas reseñadas: {df_reviews['listing_id'].nunique()}\")\n",
    "print(f\"Avg Reseñas/Propiedades: {len(df_reviews)/df_reviews['listing_id'].nunique():.1f}\")"
   ]
  },
  {
   "cell_type": "code",
   "execution_count": 40,
   "id": "be4361df",
   "metadata": {},
   "outputs": [
    {
     "name": "stdout",
     "output_type": "stream",
     "text": [
      "Valores nulos en la variable objetivo:  3261\n",
      "Valores nulos en la variable objetivo después de eliminar:  0\n"
     ]
    }
   ],
   "source": [
    "print(\"Valores nulos en la variable objetivo: \",df_listings['review_scores_rating'].isnull().sum())\n",
    "df_listings = df_listings.dropna(subset=['review_scores_rating'])\n",
    "print(\"Valores nulos en la variable objetivo después de eliminar: \",df_listings['review_scores_rating'].isnull().sum())"
   ]
  },
  {
   "cell_type": "code",
   "execution_count": 53,
   "id": "12f4517d",
   "metadata": {},
   "outputs": [
    {
     "name": "stdout",
     "output_type": "stream",
     "text": [
      "target\n",
      "1    20565\n",
      "0     2241\n",
      "Name: count, dtype: int64\n"
     ]
    }
   ],
   "source": [
    "df_listings[\"target\"] = (df_listings[\"review_scores_rating\"] >=4.5).astype(int)\n",
    "print(df_listings[\"target\"].value_counts())"
   ]
  },
  {
   "cell_type": "code",
   "execution_count": 44,
   "id": "6c5a0d76",
   "metadata": {},
   "outputs": [
    {
     "name": "stderr",
     "output_type": "stream",
     "text": [
      "/tmp/ipykernel_20589/4122031400.py:2: FutureWarning: \n",
      "\n",
      "Passing `palette` without assigning `hue` is deprecated and will be removed in v0.14.0. Assign the `x` variable to `hue` and set `legend=False` for the same effect.\n",
      "\n",
      "  sns.countplot(data=df_listings, x='target', palette='viridis')\n"
     ]
    },
    {
     "data": {
      "image/png": "[encoded data removed]",
      "text/plain": [
       "<Figure size 500x400 with 1 Axes>"
      ]
     },
     "metadata": {},
     "output_type": "display_data"
    }
   ],
   "source": [
    "plt.figure(figsize=(5, 4))\n",
    "sns.countplot(data=df_listings, x='target', palette='viridis')\n",
    "\n",
    "# Add labels and title\n",
    "plt.title('Distribución de la categoría objetivo', fontsize=12, fontweight='bold')\n",
    "plt.xlabel('Categoría Objetivo', fontsize=10)\n",
    "plt.ylabel('Cantidad', fontsize=10)\n",
    "\n",
    "# Add value labels on top of bars\n",
    "ax = plt.gca()\n",
    "for p in ax.patches:\n",
    "    ax.annotate(f'{int(p.get_height())}', \n",
    "                (p.get_x() + p.get_width()/2., p.get_height()),\n",
    "                ha='center', va='bottom', fontsize=8)\n",
    "\n",
    "plt.xticks([0, 1], ['Rating < 4.5\\n(0)', 'Rating ≥ 4.5\\n(1)'])\n",
    "\n",
    "# Adjust layout and display\n",
    "plt.tight_layout()\n",
    "plt.show()"
   ]
  },
  {
   "cell_type": "markdown",
   "id": "2c9d6008",
   "metadata": {},
   "source": [
    "Notamos que hay un gran desbalance en la categoría objetivo. Esto será algo importante a tener en cuenta al momento de elegir, entrenar y evaluar los modelos."
   ]
  },
  {
   "cell_type": "markdown",
   "id": "ea7ffc1c",
   "metadata": {},
   "source": [
    "## 2. Preprocesamiento del texto\n",
    "- Eliminamos las filas con valores nulos.\n",
    "- Eliminamos caracteres especiales, números y stopwords.\n",
    "- Convertimos todo a minúsculas.\n",
    "- Realizamos lematización para reducir las palabras a su forma base.\n",
    "- Creamos una nueva columna en el dataframe de reviews con el texto preprocesado."
   ]
  },
  {
   "cell_type": "markdown",
   "id": "75e447ce",
   "metadata": {},
   "source": [
    "Utilizaremos la columna `comments` del dataframe de reviews para el análisis, ya que está nos ayudará a entender mejor las opiniones de los usuarios que son quienes hacen las reseñas."
   ]
  },
  {
   "cell_type": "code",
   "execution_count": 47,
   "id": "1d8fe81d",
   "metadata": {},
   "outputs": [
    {
     "name": "stdout",
     "output_type": "stream",
     "text": [
      "Reseñas sin comentarios:  167\n",
      "Reseñas sin comentarios luego de la limpieza:  0\n"
     ]
    }
   ],
   "source": [
    "print(\"Reseñas sin comentarios: \",df_reviews['comments'].isnull().sum())\n",
    "df_reviews = df_reviews.dropna(subset=['comments'])\n",
    "print(\"Reseñas sin comentarios luego de la limpieza: \",df_reviews['comments'].isnull().sum())"
   ]
  },
  {
   "cell_type": "code",
   "execution_count": null,
   "id": "97104ae2",
   "metadata": {},
   "outputs": [],
   "source": [
    "importlib.reload(textfunctions)"
   ]
  },
  {
   "cell_type": "code",
   "execution_count": null,
   "id": "93c5bba1",
   "metadata": {},
   "outputs": [
    {
     "name": "stderr",
     "output_type": "stream",
     "text": [
      "[nltk_data] Downloading package stopwords to /home/tux/nltk_data...\n",
      "[nltk_data]   Package stopwords is already up-to-date!\n",
      "[nltk_data] Downloading package wordnet to /home/tux/nltk_data...\n",
      "[nltk_data]   Package wordnet is already up-to-date!\n",
      "[nltk_data] Downloading package omw-1.4 to /home/tux/nltk_data...\n",
      "[nltk_data]   Package omw-1.4 is already up-to-date!\n",
      "[nltk_data] Downloading package punkt to /home/tux/nltk_data...\n",
      "[nltk_data]   Package punkt is already up-to-date!\n"
     ]
    },
    {
     "name": "stdout",
     "output_type": "stream",
     "text": [
      "comment_language\n",
      "es         789738\n",
      "en         474135\n",
      "pt          11076\n",
      "fr          10831\n",
      "unknown     10656\n",
      "            ...  \n",
      "nap             1\n",
      "sco             1\n",
      "pam             1\n",
      "be              1\n",
      "az              1\n",
      "Name: count, Length: 74, dtype: int64\n",
      "comment_language\n",
      "es         60.018741\n",
      "en         36.033451\n",
      "pt          0.841757\n",
      "fr          0.823138\n",
      "unknown     0.809838\n",
      "             ...    \n",
      "nap         0.000076\n",
      "sco         0.000076\n",
      "pam         0.000076\n",
      "be          0.000076\n",
      "az          0.000076\n",
      "Name: proportion, Length: 74, dtype: float64\n"
     ]
    }
   ],
   "source": [
    "df_reviews = df_reviews.copy()\n",
    "df_reviews[\"comment_language\"] = df_reviews[\"comments\"].apply(textfunctions.detect_language)"
   ]
  },
  {
   "cell_type": "code",
   "execution_count": 65,
   "id": "12e5a0b9",
   "metadata": {},
   "outputs": [
    {
     "name": "stdout",
     "output_type": "stream",
     "text": [
      "comment_language\n",
      "es         789738\n",
      "en         474135\n",
      "pt          11076\n",
      "fr          10831\n",
      "unknown     10656\n",
      "            ...  \n",
      "nap             1\n",
      "sco             1\n",
      "pam             1\n",
      "be              1\n",
      "az              1\n",
      "Name: count, Length: 74, dtype: int64\n",
      "comment_language\n",
      "es         60.018741\n",
      "en         36.033451\n",
      "pt          0.841757\n",
      "fr          0.823138\n",
      "unknown     0.809838\n",
      "             ...    \n",
      "nap         0.000076\n",
      "sco         0.000076\n",
      "pam         0.000076\n",
      "be          0.000076\n",
      "az          0.000076\n",
      "Name: proportion, Length: 74, dtype: float64\n"
     ]
    }
   ],
   "source": [
    "print(df_reviews[\"comment_language\"].value_counts())\n",
    "print(df_reviews[\"comment_language\"].value_counts(normalize=True) * 100)"
   ]
  },
  {
   "cell_type": "markdown",
   "id": "33f763bc",
   "metadata": {},
   "source": [
    "Nota: Se decidió continuar el análisis con únicamente reseñas en inglés para simplificar el modelo y el preprocesamiento. No obstante, es posible que esta decisión introduzca un sesgo geográfico o socioeconómico."
   ]
  },
  {
   "cell_type": "code",
   "execution_count": null,
   "id": "ac475dc9",
   "metadata": {},
   "outputs": [],
   "source": []
  }
 ],
 "metadata": {
  "kernelspec": {
   "display_name": "env",
   "language": "python",
   "name": "python3"
  },
  "language_info": {
   "codemirror_mode": {
    "name": "ipython",
    "version": 3
   },
   "file_extension": ".py",
   "mimetype": "text/x-python",
   "name": "python",
   "nbconvert_exporter": "python",
   "pygments_lexer": "ipython3",
   "version": "3.10.12"
  }
 },
 "nbformat": 4,
 "nbformat_minor": 5
}
