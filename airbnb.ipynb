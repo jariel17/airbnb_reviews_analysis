{
 "cells": [
  {
   "cell_type": "markdown",
   "id": "db03c268",
   "metadata": {},
   "source": [
    "## Análisis de Opiniones y Características de Listados de Airbnb en Ciudad México"
   ]
  },
  {
   "cell_type": "code",
   "execution_count": 2,
   "id": "2caa031b",
   "metadata": {},
   "outputs": [],
   "source": [
    "import numpy as np\n",
    "import pandas as pd\n",
    "from sklearn.feature_extraction.text import TfidfVectorizer \n",
    "from sklearn.feature_extraction.text import CountVectorizer\n",
    "from sklearn.model_selection import GridSearchCV\n",
    "from sklearn.naive_bayes import MultinomialNB\n",
    "from sklearn.linear_model import LogisticRegression\n",
    "from sklearn.model_selection import train_test_split\n",
    "from sklearn.metrics import classification_report, accuracy_score \n",
    "from sklearn.metrics import confusion_matrix, ConfusionMatrixDisplay\n",
    "import seaborn as sns\n",
    "import matplotlib.pyplot as plt\n",
    "from sklearn.pipeline import Pipeline\n",
    "import nltk\n",
    "import joblib\n",
    "import importlib\n",
    "from nltk.corpus import stopwords\n",
    "from nltk.tokenize import word_tokenize\n",
    "# import funciones\n",
    "from wordcloud import WordCloud"
   ]
  },
  {
   "cell_type": "markdown",
   "id": "6263f662",
   "metadata": {},
   "source": [
    "### 1. Carga de los datos y exploración inicial\n",
    "- Cargamos los datos de Airbnb y realizamos una exploración inicial para entender la estructura y el contenido de los datos.\n",
    "- Exploramos la columna objetivo: `review_scores_rating`.\n",
    "- Eliminamos los items sin puntuación.\n",
    "- Realizamos el etiquetado binario.\n",
    "- Visualizamos la distribución de la nueva columna `target`."
   ]
  },
  {
   "cell_type": "code",
   "execution_count": 36,
   "id": "3a0ae619",
   "metadata": {},
   "outputs": [],
   "source": [
    "df_listings = pd.read_csv('data/listings.csv')\n",
    "df_reviews = pd.read_csv('data/reviews.csv')"
   ]
  },
  {
   "cell_type": "markdown",
   "id": "2d0072d8",
   "metadata": {},
   "source": [
    "- Revisamos la cantida de datos que tenemos en ambos dataframes.\n",
    "- Verificamos que en los reviews no hayan ids que no se encuentren en listings."
   ]
  },
  {
   "cell_type": "code",
   "execution_count": 37,
   "id": "362a8039",
   "metadata": {},
   "outputs": [
    {
     "name": "stdout",
     "output_type": "stream",
     "text": [
      "Tamaño de df_listings: (26067, 79)\n",
      "Tamaño de df_reviews: (1315986, 6)\n"
     ]
    }
   ],
   "source": [
    "print(\"Tamaño de df_listings:\", df_listings.shape)\n",
    "print(\"Tamaño de df_reviews:\", df_reviews.shape)"
   ]
  },
  {
   "cell_type": "code",
   "execution_count": 38,
   "id": "03a459c2",
   "metadata": {},
   "outputs": [],
   "source": [
    "missing_ids = set(df_reviews['listing_id']) - set(df_listings['id'])"
   ]
  },
  {
   "cell_type": "code",
   "execution_count": 39,
   "id": "5e757f02",
   "metadata": {},
   "outputs": [
    {
     "name": "stdout",
     "output_type": "stream",
     "text": [
      "Total de Propiedades: 26067\n",
      "Total de Reseñas: 1315986\n",
      "Total de propiedades únicas reseñadas: 22806\n",
      "Avg Reseñas/Propiedades: 57.7\n"
     ]
    }
   ],
   "source": [
    "\n",
    "print(f\"Total de Propiedades: {df_listings['id'].nunique()}\")\n",
    "print(f\"Total de Reseñas: {len(df_reviews)}\")\n",
    "print(f\"Total de propiedades únicas reseñadas: {df_reviews['listing_id'].nunique()}\")\n",
    "print(f\"Avg Reseñas/Propiedades: {len(df_reviews)/df_reviews['listing_id'].nunique():.1f}\")"
   ]
  },
  {
   "cell_type": "code",
   "execution_count": 40,
   "id": "be4361df",
   "metadata": {},
   "outputs": [
    {
     "name": "stdout",
     "output_type": "stream",
     "text": [
      "Valores nulos en la variable objetivo:  3261\n",
      "Valores nulos en la variable objetivo después de eliminar:  0\n"
     ]
    }
   ],
   "source": [
    "print(\"Valores nulos en la variable objetivo: \",df_listings['review_scores_rating'].isnull().sum())\n",
    "df_listings = df_listings.dropna(subset=['review_scores_rating'])\n",
    "print(\"Valores nulos en la variable objetivo después de eliminar: \",df_listings['review_scores_rating'].isnull().sum())"
   ]
  },
  {
   "cell_type": "code",
   "execution_count": 41,
   "id": "12f4517d",
   "metadata": {},
   "outputs": [
    {
     "name": "stdout",
     "output_type": "stream",
     "text": [
      "target\n",
      "1    19216\n",
      "0     3590\n",
      "Name: count, dtype: int64\n"
     ]
    }
   ],
   "source": [
    "df_listings[\"target\"] = (df_listings[\"review_scores_rating\"] >=4.6).astype(int)\n",
    "print(df_listings[\"target\"].value_counts())"
   ]
  },
  {
   "cell_type": "code",
   "execution_count": 42,
   "id": "6c5a0d76",
   "metadata": {},
   "outputs": [
    {
     "name": "stderr",
     "output_type": "stream",
     "text": [
      "/tmp/ipykernel_20589/4149877364.py:2: FutureWarning: \n",
      "\n",
      "Passing `palette` without assigning `hue` is deprecated and will be removed in v0.14.0. Assign the `x` variable to `hue` and set `legend=False` for the same effect.\n",
      "\n",
      "  sns.countplot(data=df_listings, x='target', palette='viridis')\n"
     ]
    },
    {
     "data": {
      "image/png": "[encoded data removed]",
      "text/plain": [
       "<Figure size 500x400 with 1 Axes>"
      ]
     },
     "metadata": {},
     "output_type": "display_data"
    }
   ],
   "source": [
    "plt.figure(figsize=(5, 4))\n",
    "sns.countplot(data=df_listings, x='target', palette='viridis')\n",
    "\n",
    "# Add labels and title\n",
    "plt.title('Distribución de Categorías Objetivo', fontsize=12, fontweight='bold')\n",
    "plt.xlabel('Categoría Objetivo', fontsize=10)\n",
    "plt.ylabel('Cantidad', fontsize=10)\n",
    "\n",
    "# Add value labels on top of bars\n",
    "ax = plt.gca()\n",
    "for p in ax.patches:\n",
    "    ax.annotate(f'{int(p.get_height())}', \n",
    "                (p.get_x() + p.get_width()/2., p.get_height()),\n",
    "                ha='center', va='bottom', fontsize=8)\n",
    "\n",
    "plt.xticks([0, 1], ['Rating < 4.5\\n(0)', 'Rating ≥ 4.5\\n(1)'])\n",
    "\n",
    "# Adjust layout and display\n",
    "plt.tight_layout()\n",
    "plt.show()"
   ]
  },
  {
   "cell_type": "markdown",
   "id": "2c9d6008",
   "metadata": {},
   "source": [
    "Notamos que hay un gran desbalance en la categoría objetivo. Esto será algo importante a tener en cuenta al momento de elegir, entrenar y evaluar los modelos."
   ]
  },
  {
   "cell_type": "markdown",
   "id": "ea7ffc1c",
   "metadata": {},
   "source": [
    "## 2. Preprocesamiento del texto\n",
    "- Eliminamos caracteres especiales, números y stopwords.\n",
    "- Convertimos todo a minúsculas.\n",
    "- Realizamos lematización para reducir las palabras a su forma base.\n",
    "- Creamos una nueva columna en el dataframe de reviews con el texto preprocesado."
   ]
  },
  {
   "cell_type": "code",
   "execution_count": null,
   "id": "93c5bba1",
   "metadata": {},
   "outputs": [],
   "source": []
  }
 ],
 "metadata": {
  "kernelspec": {
   "display_name": "env",
   "language": "python",
   "name": "python3"
  },
  "language_info": {
   "codemirror_mode": {
    "name": "ipython",
    "version": 3
   },
   "file_extension": ".py",
   "mimetype": "text/x-python",
   "name": "python",
   "nbconvert_exporter": "python",
   "pygments_lexer": "ipython3",
   "version": "3.10.12"
  }
 },
 "nbformat": 4,
 "nbformat_minor": 5
}
